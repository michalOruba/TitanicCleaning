{
 "cells": [
  {
   "cell_type": "markdown",
   "metadata": {},
   "source": [
    "\n",
    "Created on Fri Dec 11 19:01:34 2020\n",
    "\n",
    "@author: Michal Oruba\n",
    "\n",
    "# Wstęp\n",
    "\n",
    "Analizowanym zbiorem jest Titanic, który został zapisany w pliku o rozszerzeniu *.tsc*. Jest to rozszerzenie, które oddziela kolejne kolumny przy pomocy tabulatora. Dostarczony plik zawierał informacje, które nie będą wymagane podczas analizy, takie które były błędne, lub ich brak. W dalszej części dokumentu, przedstawione zostaną wszystkie nieprawidłowości, które zostały odnalezione w zbiorze danych, a także sposoby i rezultaty ich poprawy.\n",
    "\n",
    "Kolumny zawarte w zbiorze danych oraz ich opis zostały przedstawione poniżej:\n",
    "\n",
    "| Nazwa         | Opis                                         |\n",
    "| --------------|----------------------------------------------|\n",
    "| PassengerId   | Unikalny identyfikator pasażera              |\n",
    "| Survived      | Przeżył (1), zmarł (0)                       |\n",
    "| Pclass        | Klasa pasażera                               |\n",
    "| Name          | Imię pasażera                                |\n",
    "| Sex           | Płeć pasażera                                |\n",
    "| Age           | Wiek pasażera                                |\n",
    "| SibSp         | Liczba rodzeństwa lub małżonków na pokładzie |\n",
    "| Parch         | liczba rodziców lub dzieci na pokładzie      |\n",
    "| Ticket        | Numer biletu                                 |\n",
    "| Fare          | Cena biletu                                  |\n",
    "| Cabin         | Numer kabiny                                 |\n",
    "| Embarked      | Port wypłynięcia pasażera                    |\n",
    "| Ship          | Nazwa statku\t\t\t                       |"
   ]
  },
  {
   "cell_type": "markdown",
   "metadata": {},
   "source": [
    "# Analiza zbioru danych\n",
    "\n",
    "Do przeglądania oraz przetwarzania zbioru danych wykorzystano bibliotekę *Pandas*. Aby wczytać plik z danymi należało skorzystać z polecenia *pd.read_csv()*. Następnie, czy pomocy polecenia *columns.tolist()* uzyskano informację na temat kolumn, które znajdują się w pliku, co potwierdza informacje przedstawione w tabeli przedstawionej we wstępie. \n",
    "\n",
    "Aby poprawnie wczytać plik z danymi do tego notatnika, musi on być w tym samym katalogu co ten Notebook, lub należy zmienić ścieżkę na własną."
   ]
  },
  {
   "cell_type": "code",
   "execution_count": 196,
   "metadata": {},
   "outputs": [],
   "source": [
    "import pandas as pd\n",
    "\n",
    "tit = pd.read_csv(r'TitanicMess.tsv', sep='\\t', index_col='PassengerId')"
   ]
  },
  {
   "cell_type": "code",
   "execution_count": 197,
   "metadata": {},
   "outputs": [],
   "source": [
    "# Usunięcie warningów z Notebooka w Binder\n",
    "from warnings import simplefilter\n",
    "simplefilter(action='ignore', category=FutureWarning)"
   ]
  },
  {
   "cell_type": "code",
   "execution_count": 198,
   "metadata": {},
   "outputs": [
    {
     "name": "stdout",
     "output_type": "stream",
     "text": [
      "['Survived', 'Pclass', 'Name', 'Sex', 'Age', 'SibSp', 'Parch', 'Ticket', 'Fare', 'Cabin', 'Embarked', 'ship']\n"
     ]
    }
   ],
   "source": [
    "print(tit.columns.tolist())"
   ]
  },
  {
   "cell_type": "markdown",
   "metadata": {},
   "source": [
    "Aby zweryfikować, jakie typy danych znajdują się w każdej z kolumn, użyto polecenia dtypes. Jego wyniki znajdują się poniżej. Na ich podstawie można wnioskować, że kolumny Age i Fare posiadają niepoprawne lub puste wartości, ponieważ automatycznie został dobrany typ *object*."
   ]
  },
  {
   "cell_type": "code",
   "execution_count": 199,
   "metadata": {},
   "outputs": [
    {
     "name": "stdout",
     "output_type": "stream",
     "text": [
      "Survived     int64\n",
      "Pclass       int64\n",
      "Name        object\n",
      "Sex         object\n",
      "Age         object\n",
      "SibSp        int64\n",
      "Parch        int64\n",
      "Ticket      object\n",
      "Fare        object\n",
      "Cabin       object\n",
      "Embarked    object\n",
      "ship        object\n",
      "dtype: object\n"
     ]
    }
   ],
   "source": [
    "print(tit.dtypes)"
   ]
  },
  {
   "cell_type": "markdown",
   "metadata": {},
   "source": [
    "Aby zweryfikować, które kolumny zawierają puste wartości i jaka jest ich liczba, skorzystano z metody *isnull().sum()*. W wynikach można zaobserwować braki w trzech kolumnach. Są to *Age* (173), *Cabin* (685) oraz *Embarked* (2)."
   ]
  },
  {
   "cell_type": "code",
   "execution_count": 200,
   "metadata": {},
   "outputs": [
    {
     "name": "stdout",
     "output_type": "stream",
     "text": [
      "Survived      0\n",
      "Pclass        0\n",
      "Name          0\n",
      "Sex           0\n",
      "Age         173\n",
      "SibSp         0\n",
      "Parch         0\n",
      "Ticket        0\n",
      "Fare          0\n",
      "Cabin       685\n",
      "Embarked      2\n",
      "ship          0\n",
      "dtype: int64\n"
     ]
    }
   ],
   "source": [
    "print(tit.isnull().sum())"
   ]
  },
  {
   "cell_type": "markdown",
   "metadata": {},
   "source": [
    "Kolejną wykonaną analizą danych była weryfikacja przy pomocy polecenia *describe()*. Wynikiem jest zbiór danych z wyszczególnionymi parametrami takimi jak liczba, liczba unikatowych wartości, element najczęściej występujący oraz liczba jego wystąpień."
   ]
  },
  {
   "cell_type": "code",
   "execution_count": 201,
   "metadata": {},
   "outputs": [
    {
     "name": "stdout",
     "output_type": "stream",
     "text": [
      "                                      Name   Sex  Age Ticket  Fare Cabin  \\\n",
      "count                                  892   892  719    892   892   207   \n",
      "unique                                 889     6   93    680   250   145   \n",
      "top     Sandstrom, Miss. Marguerite Ru&5$$  male   24   1601  8,05    G6   \n",
      "freq                                     3   576   30      7    43     6   \n",
      "\n",
      "       Embarked     ship  \n",
      "count       890      892  \n",
      "unique        6        1  \n",
      "top           S  Titanic  \n",
      "freq        643      892  \n"
     ]
    }
   ],
   "source": [
    "print(tit.describe(include=['object']))"
   ]
  },
  {
   "cell_type": "markdown",
   "metadata": {},
   "source": [
    "Dzięki tej informacji można podejrzewać bazując na kolumnie *Name* i wartości *Sandstrom, Miss. Marguerite Ru&5$$*, że zbiór posiada przynajmniej 3 zduplikowane wiersze, ponieważ wartość ta występuje trzykrotnie. Błędem w danych mogą być także znaki specjalne, znajdujące się w najczęściej występującej wartości kolumny *Name*. Dodatkowo informacja o sześciu unikatowych wartościach w kolumnie *Sex* może także wskazywać na błędne wartości, najprawdopodobniej literówki. Także w kolumnie *Embarked* można zauważyć 6 unikatowych wartości, a powinno ich być tylko 3."
   ]
  },
  {
   "cell_type": "markdown",
   "metadata": {},
   "source": [
    "Ostatnią informacją, którą można zaobserwować dla wyników polecenia describe jest to, że w kolumnie *Ship* występuje jedna unikatowa wartość. Oznacza to, że nie wnosi ona żadnych informacji do analizy."
   ]
  },
  {
   "cell_type": "markdown",
   "metadata": {},
   "source": [
    "Bardziej szczegółowych oględzin będą wymagały kolumny Age oraz Fare. Są to kolumny, które powinny zawierać dane liczbowe, jednak dtypes określa je jako *Object*, co wskazuje na błędne wartości. Należy uzupełnić brakujące dane oraz zweryfikować, czy występują jakieś niepoprawne wartości: błędny format liczb, zły separator dziesiętny, wartości spoza oczekiwanego zakresu.\n",
    "\n",
    "Puste wartości w kolumnie Cabin nie będą uzupełniane, ze względu na ich liczebność. Uzupełnienie tak dużej liczby braków moze negatywnie wpłynąć na analizę. Nie uzupełniając danych, podczas analizy będzie można zwrócić uwagę na to, czy brak danych można generować jakąś zależność w tym przypadku."
   ]
  },
  {
   "cell_type": "markdown",
   "metadata": {},
   "source": [
    "# Czyszczenie danych\n",
    "\n",
    "Czyszenie danych polegać będzie na usunięciu niepoprawnych lub niepotrzebnych danych, uzupełnieniu brakujących tam, gdzie to możliwe. Podjeta zostanie także próba poprawienia tych informacji, których będzie możliwość. Zmieniony zostanie typ kolumny Age oraz Fare oraz duplikaty będą usunięte."
   ]
  },
  {
   "cell_type": "markdown",
   "metadata": {},
   "source": [
    "## Usunięcie kolumny ship\n",
    "\n",
    "Pierwszym elementem, z którego zostanie oczyszczony zbiór danych, to kolumna *ship*. Jest ona nieprzydatna do dalszej analizy, ze względu na jednakową wartość w każdym wierszu. Nową wartość zapisana została do nowej zmiennej *tit_wo_ship*."
   ]
  },
  {
   "cell_type": "code",
   "execution_count": 202,
   "metadata": {},
   "outputs": [
    {
     "name": "stdout",
     "output_type": "stream",
     "text": [
      "['Survived', 'Pclass', 'Name', 'Sex', 'Age', 'SibSp', 'Parch', 'Ticket', 'Fare', 'Cabin', 'Embarked']\n"
     ]
    }
   ],
   "source": [
    "tit_wo_ship = tit.drop(columns='ship')\n",
    "print(tit_wo_ship.columns.tolist())"
   ]
  },
  {
   "cell_type": "markdown",
   "metadata": {},
   "source": [
    "## Poprawa kolumny Age\n",
    "\n",
    "W celu poprawy kolumny *Age* skorzystano z funkcji unique(), do zweryfikowania unikatowych wartości."
   ]
  },
  {
   "cell_type": "code",
   "execution_count": 203,
   "metadata": {},
   "outputs": [
    {
     "name": "stdout",
     "output_type": "stream",
     "text": [
      "['22' '38' '26' '35' nan '54' '2' '27' '14' '4' '58' '20' '55' '31' '34'\n",
      " '15' '8' '19' '40' '.9' '66' '28' '42' '21' '18' '3' '7' '49' '29' '65'\n",
      " '28,5' '5' '11' '45' '17' '32' '16' '25' '0,83' '30' '33' '23' '24' '46'\n",
      " '59' '71' '37' '47' '14,5' '70,5' '32,5' '12' '9' '36,5' '51' '55,5'\n",
      " '40,5' '44' '1' '61' '56' '50' '36' '45,5' '4435' '20,5' '62' '41' '52'\n",
      " '63' '23,5' '0,92' '43' '60' '39' '10' '64' '13' '48' '0,75' '-3' '-12'\n",
      " '53' '57' '80' '250' '70' '24,5' '6' '0,67' '30,5' '0,42' '34,5' '74']\n"
     ]
    }
   ],
   "source": [
    "print(tit_wo_ship['Age'].unique())"
   ]
  },
  {
   "cell_type": "markdown",
   "metadata": {},
   "source": [
    "Aby doprowadzić do możliwości zamiany typu w tej kolumnie na *float*, należy uzupełnić puste wartości, oraz poprawić separator dziesiętny.\n",
    "\n",
    "Praca zostanie wykonana na kopii bieżącego zbioru danych do zmiennej *tit_correct_age*."
   ]
  },
  {
   "cell_type": "code",
   "execution_count": 204,
   "metadata": {},
   "outputs": [],
   "source": [
    "tit_correct_age = tit_wo_ship.copy()"
   ]
  },
  {
   "cell_type": "markdown",
   "metadata": {},
   "source": [
    "Następnie odnaleziona zostanie mediana za pomocą funkcji *mode()*, którą zastąpione będą puste wartości."
   ]
  },
  {
   "cell_type": "code",
   "execution_count": 205,
   "metadata": {},
   "outputs": [
    {
     "name": "stdout",
     "output_type": "stream",
     "text": [
      "Mediana wynosi: 24\n",
      "Liczba pustych wartości dla kolumny Age:\n",
      "0\n"
     ]
    }
   ],
   "source": [
    "mediana = tit_correct_age['Age'].mode()\n",
    "print('Mediana wynosi: ' + str(mediana[0]))\n",
    "tit_correct_age['Age'] = tit_correct_age['Age'].fillna(str(mediana[0]))\n",
    "print('Liczba pustych wartości dla kolumny Age:')\n",
    "print(tit_correct_age['Age'].isnull().sum())"
   ]
  },
  {
   "cell_type": "markdown",
   "metadata": {},
   "source": [
    "W kolejnym kroku separator dziesiętny w formie przecinka zostanie zamieniony na kropkę."
   ]
  },
  {
   "cell_type": "code",
   "execution_count": 206,
   "metadata": {},
   "outputs": [],
   "source": [
    "tit_correct_age['Age'] = tit_correct_age['Age'].str.replace(\",\",\".\")"
   ]
  },
  {
   "cell_type": "markdown",
   "metadata": {},
   "source": [
    "Następnie zmieniony zostanie typ danych w kolumnie na float."
   ]
  },
  {
   "cell_type": "code",
   "execution_count": 207,
   "metadata": {},
   "outputs": [],
   "source": [
    "tit_correct_age['Age'] = tit_correct_age['Age'].astype(float)"
   ]
  },
  {
   "cell_type": "markdown",
   "metadata": {},
   "source": [
    "Do wyznaczenia maksymalnej i minimalnej wartości zostaną wykorzystane metody *max()* i *min()*."
   ]
  },
  {
   "cell_type": "code",
   "execution_count": 208,
   "metadata": {},
   "outputs": [
    {
     "name": "stdout",
     "output_type": "stream",
     "text": [
      "Wartość maksymalna: 4435.0\n",
      "Wartość minimalna: -12.0\n"
     ]
    }
   ],
   "source": [
    "print(\"Wartość maksymalna: \" + str(tit_correct_age['Age'].max()))\n",
    "print(\"Wartość minimalna: \" + str(tit_correct_age['Age'].min()))"
   ]
  },
  {
   "cell_type": "markdown",
   "metadata": {},
   "source": [
    "Wyznaczony wiek maksymalny i minimalny posiada błędne wartości. Poniżej odnalezione zostały wszystkie wartości w kolumnie *Age*, których wartości sa ujemne lub większe niż 120."
   ]
  },
  {
   "cell_type": "code",
   "execution_count": 209,
   "metadata": {},
   "outputs": [
    {
     "name": "stdout",
     "output_type": "stream",
     "text": [
      "               Age  SibSp  Parch\n",
      "PassengerId                     \n",
      "32            0.90      1      0\n",
      "79            0.83      0      2\n",
      "306           0.92      1      2\n",
      "470           0.75      2      1\n",
      "508          -3.00      0      0\n",
      "523         -12.00      0      0\n",
      "645           0.75      2      1\n",
      "756           0.67      1      1\n",
      "804           0.42      0      1\n",
      "832           0.83      1      1\n",
      "                Age  SibSp  Parch\n",
      "PassengerId                      \n",
      "224          4435.0      0      0\n",
      "667           250.0      0      0\n"
     ]
    }
   ],
   "source": [
    "print(tit_correct_age[tit_correct_age['Age']<1][['Age', 'SibSp', 'Parch']])\n",
    "print(tit_correct_age[tit_correct_age['Age']>120][['Age', 'SibSp', 'Parch']])"
   ]
  },
  {
   "cell_type": "markdown",
   "metadata": {},
   "source": [
    "W zbiorze danych istnieją dwie wartości, które posiadają wiek większy niż 100, dwie wartości ujemne, oraz 8 dodatnich, ale mniejszych niż 1.\n",
    "\n",
    "Wartości ujemne zostaną zamienione na miedianę. Ze względu na brak rodziców (kolumna *Parch*) na pokładzie nie można wnioskować, że znak \"-\" został dodany przypadkowo. Dzieci w wieku 3 i 12 lat nie powinny podróżować same.\n",
    "\n",
    "Wartości większe niż 120 również zostaną zamienione na medianę, nie można na ich podstawie wywnioskować, jaka wartość byłaby poprawna.\n",
    "\n",
    "Wartości z przedziału (0, 1) zostaną zamienione na 1."
   ]
  },
  {
   "cell_type": "code",
   "execution_count": 210,
   "metadata": {},
   "outputs": [
    {
     "name": "stdout",
     "output_type": "stream",
     "text": [
      "W zbiorze nie występuje już wiek mniejszy od 1 lub większy od 120:\n",
      "Empty DataFrame\n",
      "Columns: [Age, SibSp, Parch]\n",
      "Index: []\n",
      "Empty DataFrame\n",
      "Columns: [Age, SibSp, Parch]\n",
      "Index: []\n"
     ]
    }
   ],
   "source": [
    "# Zmiana wieku powyżej 120 na medianę\n",
    "tit_correct_age.loc[tit_correct_age['Age'] > 120, 'Age'] = float(mediana)\n",
    "# Zmiana wieku poniżej 0 na medianę\n",
    "tit_correct_age.loc[tit_correct_age['Age'] < 0, 'Age'] = float(mediana)\n",
    "# Zmiana wieku ponizej 1 na 1\n",
    "tit_correct_age.loc[tit_correct_age['Age'] < 1, 'Age'] = float(1)\n",
    "\n",
    "print('W zbiorze nie występuje już wiek mniejszy od 1 lub większy od 120:')\n",
    "print(tit_correct_age[tit_correct_age['Age']<1][['Age', 'SibSp', 'Parch']])\n",
    "print(tit_correct_age[tit_correct_age['Age']>120][['Age', 'SibSp', 'Parch']])"
   ]
  },
  {
   "cell_type": "markdown",
   "metadata": {},
   "source": [
    "## Poprawa kolumny Sex\n",
    "\n",
    "Podobnie jak w przypadku kolumny *Age* skorzystano z metody *unique()*, aby znaleźć błędne typy płci w kolumnie *Sex*:"
   ]
  },
  {
   "cell_type": "code",
   "execution_count": 211,
   "metadata": {},
   "outputs": [
    {
     "name": "stdout",
     "output_type": "stream",
     "text": [
      "['male' 'female' 'malef' 'mal' 'fem' 'femmale']\n"
     ]
    }
   ],
   "source": [
    "print(tit_wo_ship['Sex'].unique())"
   ]
  },
  {
   "cell_type": "markdown",
   "metadata": {},
   "source": [
    "Można zaobserwować, że dla płci męskiej, poza poprawną wartością *male* pojawiają się także *malef* i *mal*. Natomiast dla wartości *female*: *fem* oraz *femmale*. Wartości te zostaną poprawione na właściwe. W pierwszej kolejności zostanie jednak utworzona nowa zmienna *tit_correct_sex*, będąca kopią poprawionego zbioru danych *tit_correct_age*."
   ]
  },
  {
   "cell_type": "code",
   "execution_count": 212,
   "metadata": {},
   "outputs": [
    {
     "name": "stdout",
     "output_type": "stream",
     "text": [
      "Poprawione wartości kolumny Sex:\n",
      "['male' 'female']\n"
     ]
    }
   ],
   "source": [
    "tit_correct_sex = tit_correct_age.copy();\n",
    "\n",
    "tit_correct_sex['Sex'] = tit_correct_sex['Sex'].str.replace(r\"\\bmalef\\b\", \"male\")\n",
    "tit_correct_sex['Sex'] = tit_correct_sex['Sex'].str.replace(r\"\\bmal\\b\", \"male\")\n",
    "tit_correct_sex['Sex'] = tit_correct_sex['Sex'].str.replace(r\"\\bfemmale\\b\", \"female\")\n",
    "tit_correct_sex['Sex'] = tit_correct_sex['Sex'].str.replace(r\"\\bfem\\b\", \"female\")\n",
    "\n",
    "print('Poprawione wartości kolumny Sex:')\n",
    "print(tit_correct_sex['Sex'].unique())"
   ]
  },
  {
   "cell_type": "markdown",
   "metadata": {},
   "source": [
    "## Poprawa kolumny Embarked\n",
    "\n",
    "Również w tym przypadku skorzystano z metody *unique()*:"
   ]
  },
  {
   "cell_type": "code",
   "execution_count": 213,
   "metadata": {},
   "outputs": [
    {
     "name": "stdout",
     "output_type": "stream",
     "text": [
      "['S' 'C' 'Q' 'So' nan 'Co' 'Qe']\n"
     ]
    }
   ],
   "source": [
    "print(tit_correct_sex['Embarked'].unique())"
   ]
  },
  {
   "cell_type": "markdown",
   "metadata": {},
   "source": [
    "Poprawne wartości dla tej kolumny, to \"S\", \"C\", \"Q\". Pozostałe należy zamienić na te wynienione lub uzupełnić puste wartości. Zdecydowano, że brak wartości zostanie uzupełniony poprzez wartość najczęściej występującą. Do wskazania tej wartości wykorzystano metodę *mode()*.\n",
    "\n",
    "Aby przeprowadzić poprawę utworzono kopię danych w nowej zmiennej tit_correct_embarked."
   ]
  },
  {
   "cell_type": "code",
   "execution_count": 214,
   "metadata": {},
   "outputs": [],
   "source": [
    "tit_correct_embarked = tit_correct_sex.copy();"
   ]
  },
  {
   "cell_type": "markdown",
   "metadata": {},
   "source": [
    "Następnie wykonano poprawę danych:"
   ]
  },
  {
   "cell_type": "code",
   "execution_count": 215,
   "metadata": {},
   "outputs": [
    {
     "name": "stdout",
     "output_type": "stream",
     "text": [
      "Najczęściej występujący port to: S\n",
      "Poprawione wartości kolumny Embarked:\n",
      "['S' 'C' 'Q']\n"
     ]
    }
   ],
   "source": [
    "tit_correct_embarked['Embarked'] = tit_correct_embarked['Embarked'].str.replace(r\"\\bSo\\b\", \"S\")\n",
    "tit_correct_embarked['Embarked'] = tit_correct_embarked['Embarked'].str.replace(r\"\\bCo\\b\", \"C\")\n",
    "tit_correct_embarked['Embarked'] = tit_correct_embarked['Embarked'].str.replace(r\"\\bQe\\b\", \"Q\")\n",
    "\n",
    "most_common_port = tit_correct_embarked['Embarked'].mode()\n",
    "print('Najczęściej występujący port to: ' + most_common_port[0])\n",
    "tit_correct_embarked['Embarked'] = tit_correct_embarked['Embarked'].fillna(most_common_port[0])\n",
    "\n",
    "print('Poprawione wartości kolumny Embarked:')\n",
    "print(tit_correct_embarked['Embarked'].unique())"
   ]
  },
  {
   "cell_type": "markdown",
   "metadata": {},
   "source": [
    "## Usunięcie duplikatów\n",
    "\n",
    "Aby zweryfikować, czy w danych istnieją duplikaty, skorzystano z metody duplicated(). Wykorzystano w niej parametr *keep=False*, aby w wyniku zwrócić tylko powtarzające się wartości.\n",
    "\n",
    "Zduplikowane wartości odnaleziono na podstawie wartości indeksu kolumny *PassengerId*."
   ]
  },
  {
   "cell_type": "code",
   "execution_count": 216,
   "metadata": {},
   "outputs": [
    {
     "name": "stdout",
     "output_type": "stream",
     "text": [
      "             Survived  Pclass                                Name     Sex  \\\n",
      "PassengerId                                                                 \n",
      "11                  1       3  Sandstrom, Miss. Marguerite Ru&5$$  female   \n",
      "11                  1       3  Sandstrom, Miss. Marguerite Ru&5$$  female   \n",
      "11                  1       3  Sandstrom, Miss. Marguerite Ru&5$$  female   \n",
      "225                 1       1        Hoyt, Mr. Frederick Maxfield    male   \n",
      "225                 1       1        Hoyt, Mr. Frederick Maxfield    male   \n",
      "225                 1       1       Hoytt, Mr. Frederick Maxfield    male   \n",
      "\n",
      "              Age  SibSp  Parch   Ticket  Fare Cabin Embarked  \n",
      "PassengerId                                                    \n",
      "11            4.0      1      1  PP 9549  16,7    G6        S  \n",
      "11            4.0      1      1  PP 9549  16,7    G6        S  \n",
      "11            4.0      1      1  PP 9549  16,7    G6        S  \n",
      "225          38.0      1      0    19943    90   C93        S  \n",
      "225          38.0      1      0    19943    90   C93        S  \n",
      "225          38.0      1      0    19943    90   C93        S  \n"
     ]
    }
   ],
   "source": [
    "print(tit_correct_embarked[tit_correct_embarked.index.duplicated(keep=False)])"
   ]
  },
  {
   "cell_type": "markdown",
   "metadata": {},
   "source": [
    "Zduplikowane były rekordy o ID 11 oraz 225. Jeden z wpisów o ID 225 posiadał błędną wartość w nazwisku, gdzie pojawiła się dwukrotnie litera \"t\". Aby móc usunąć wszystkie duplikaty jedną metodą, należy najpierw poprawić błędne nazwisko. Zmiany w tym podrozdziale będą realizowane na nowej zmiennej o nazwie *tit_removed_duplicates*."
   ]
  },
  {
   "cell_type": "code",
   "execution_count": 217,
   "metadata": {},
   "outputs": [
    {
     "name": "stdout",
     "output_type": "stream",
     "text": [
      "             Survived  Pclass                          Name   Sex   Age  \\\n",
      "PassengerId                                                               \n",
      "225                 1       1  Hoyt, Mr. Frederick Maxfield  male  38.0   \n",
      "225                 1       1  Hoyt, Mr. Frederick Maxfield  male  38.0   \n",
      "225                 1       1  Hoyt, Mr. Frederick Maxfield  male  38.0   \n",
      "\n",
      "             SibSp  Parch Ticket Fare Cabin Embarked  \n",
      "PassengerId                                           \n",
      "225              1      0  19943   90   C93        S  \n",
      "225              1      0  19943   90   C93        S  \n",
      "225              1      0  19943   90   C93        S  \n"
     ]
    }
   ],
   "source": [
    "tit_removed_duplicates = tit_correct_embarked.copy()\n",
    "tit_removed_duplicates.loc[tit_removed_duplicates.Name == \"Hoytt, Mr. Frederick Maxfield\", 'Name'] = \"Hoyt, Mr. Frederick Maxfield\"\n",
    "\n",
    "print(tit_removed_duplicates[tit_removed_duplicates.index == 225])"
   ]
  },
  {
   "cell_type": "markdown",
   "metadata": {},
   "source": [
    "Aby usunąć duplikaty skorzystano z metody *drop_duplicates*."
   ]
  },
  {
   "cell_type": "code",
   "execution_count": 218,
   "metadata": {},
   "outputs": [
    {
     "name": "stdout",
     "output_type": "stream",
     "text": [
      "count                                      888\n",
      "unique                                     888\n",
      "top       Ford, Miss. Doolina Margaret \"Daisy\"\n",
      "freq                                         1\n",
      "Name: Name, dtype: object\n"
     ]
    }
   ],
   "source": [
    "tit_removed_duplicates = tit_removed_duplicates.drop_duplicates(inplace=False)\n",
    "\n",
    "print(tit_removed_duplicates['Name'].describe(include=['object']))"
   ]
  },
  {
   "cell_type": "markdown",
   "metadata": {},
   "source": [
    "Zauważyć można, że cztery wartości zostały usunięte, było 892, jest 888."
   ]
  },
  {
   "cell_type": "markdown",
   "metadata": {},
   "source": [
    "## Poprawa znaków specjalnych w kolumnie Name\n",
    "\n",
    "Podczas usuwania duplikatów, zaobserwować można było, że pasażer o ID 11 posiada w kolumnie *Name* znaki specjalne. Aby je odszukać wykorzystano metodę *contains()* oraz wyrażenia regularego. Tak jak poprzednio, utworzono też nową kopię danych w zmiennej tit_correct_name."
   ]
  },
  {
   "cell_type": "code",
   "execution_count": 219,
   "metadata": {},
   "outputs": [
    {
     "name": "stdout",
     "output_type": "stream",
     "text": [
      "             Survived  Pclass                                Name     Sex  \\\n",
      "PassengerId                                                                 \n",
      "11                  1       3  Sandstrom, Miss. Marguerite Ru&5$$  female   \n",
      "407                 0       3    Widegren, Mr. Carl/Charles Peter    male   \n",
      "\n",
      "              Age  SibSp  Parch   Ticket  Fare Cabin Embarked  \n",
      "PassengerId                                                    \n",
      "11            4.0      1      1  PP 9549  16,7    G6        S  \n",
      "407          51.0      0      0   347064  7,75   NaN        S  \n"
     ]
    }
   ],
   "source": [
    "tit_correct_name = tit_removed_duplicates.copy()\n",
    "tit_bad_names = tit_correct_name[tit_correct_name['Name'].str.contains('[@_!#$%^&*<>?/\\|}{~:]')]\n",
    "\n",
    "print(tit_bad_names)"
   ]
  },
  {
   "cell_type": "markdown",
   "metadata": {},
   "source": [
    "W zbiorze danych występują tylko dwie wartości, które posiadają znaki specjalne. Pierwszy to znaleziony wcześniej pasażer o ID 11. A drugi posiada ID 407. Zawiera on jednak tylko znak \"/\", który jest tutaj użyty prawidłowo. Zmianie będzie podlegać tylko pasażer o ID 11.\n",
    "\n",
    "Zweryfikowano, że poprawne drugie imie pasażera to \"Rut\" i na takie zostanie zmieniona wartość."
   ]
  },
  {
   "cell_type": "code",
   "execution_count": 220,
   "metadata": {},
   "outputs": [
    {
     "name": "stdout",
     "output_type": "stream",
     "text": [
      "             Survived  Pclass                             Name     Sex  Age  \\\n",
      "PassengerId                                                                   \n",
      "11                  1       3  Sandstrom, Miss. Marguerite Rut  female  4.0   \n",
      "\n",
      "             SibSp  Parch   Ticket  Fare Cabin Embarked  \n",
      "PassengerId                                              \n",
      "11               1      1  PP 9549  16,7    G6        S  \n"
     ]
    }
   ],
   "source": [
    "tit_correct_name.loc[tit_correct_name.Name == \"Sandstrom, Miss. Marguerite Ru&5$$\", 'Name'] = \"Sandstrom, Miss. Marguerite Rut\"\n",
    "\n",
    "print(tit_correct_name[tit_correct_name.index == 11])"
   ]
  },
  {
   "cell_type": "markdown",
   "metadata": {},
   "source": [
    "## Poprawa kolumny Fare\n",
    "\n",
    "W celu poprawy kolumny *Fare* skorzystano z funkcji *unique()*, do zweryfikowania unikatowych wartości."
   ]
  },
  {
   "cell_type": "code",
   "execution_count": 221,
   "metadata": {},
   "outputs": [
    {
     "name": "stdout",
     "output_type": "stream",
     "text": [
      "['7,25' '71,2833' '7,925' '53,1' '8,05' '8,4583' '51,8625' '21,075'\n",
      " '11,1333' '30,0708' '16,7' '26,55' '7,8542' '16' '29,125' '13' '18'\n",
      " '7,225' '26' '8,0292' '31,3875' '263' '7,8792' '7,8958' '27,7208'\n",
      " '146,5208' '7,75' '10,5' '82,1708' '52' '7,2292' '11,2417' '9,475' '21'\n",
      " '41,5792' '15,5' '21,6792' '17,8' '39,6875' '7,8' '76,7292' '61,9792'\n",
      " '35,5' '27,75' '46,9' '80' '83,475' '27,9' '15,2458' '8,1583' '8,6625'\n",
      " '73,5' '14,4542' '56,4958' '7,65' '29' '12,475' '9' '9,5' '7,7875' '47,1'\n",
      " '15,85' '34,375' '61,175' '20,575' '34,6542' '63,3583' '23' '77,2875'\n",
      " '8,6542' '7,775' '24,15' '9,825' '14,4583' '247,5208' '31,275' '7,1417'\n",
      " '22,3583' '6,975' '7,05' '14,5' '15,0458' '26,2833' '9,2167' '79,2'\n",
      " '6,75' '11,5' '36,75' '7,7958' '12,525' '66,6' '7,3125' '61,3792'\n",
      " '7,7333' '69,55' '16,1' '15,75' '20,525' '55' '25,925' '33,5' '30,6958'\n",
      " '25,4667' '28,7125' '0' '15,05' '39' '22,025' '50' '8,4042' '6,4958'\n",
      " '10,4625' '18,7875' '31' '113,275' '27' '76,2917' '90' '9,35' '13,5'\n",
      " '7,55' '26,25' '12,275' '7,125' '-90' '52,5542' '20,2125' '86,5'\n",
      " '512,3292' '79,65' '153,4625' '135,6333' '19,5' '29,7' '77,9583' '20,25'\n",
      " '78,85' '91,0792' '12,875' '8,85' '151,55' '30,5' '23,25' '12,35'\n",
      " '110,8833' '108,9' '24' '56,9292' '83,1583' '262,375' '14' '164,8667'\n",
      " '134,5' '6,2375' '57,9792' '28,5' '133,65' '15,9' '9,225' '35' '75,25'\n",
      " '69,3' '55,4417' '211,5' '4,0125' '227,525' '15,7417' '7,7292' '12' '120'\n",
      " '12,65' '18,75' '6,8583' '32,5' '7,875' '14,4' '55,9' '8,1125' '81,8583'\n",
      " '19,2583' '19,9667' '89,1042' '38,5' '7,725' '13,7917' '9,8375' '7,0458'\n",
      " '7,5208' '12,2875' '9,5875' '15,9a' '49,5042' '78,2667' '15,1' '7,6292'\n",
      " '22,525' '26,2875' '59,4' '7,4958' '34,0208' '221,7792' '106,425' '49,5'\n",
      " '71' '13,8625' '7,8292' '39,6' '17,4' '51,4792' '26,3875' '30' '40,125'\n",
      " '8,7125' '15' '33' '42,4' '15,55' '65' '32,3208' '7,0542' '8,4333'\n",
      " '25,5875' '9,8417' '8,1375' '10,1708' '211,3375' '57' '13,4167' '7,7417'\n",
      " '9,4833' '7,7375' '8,3625' '23,45' '25,9292' '8,6833' '8,5167' '7,8875'\n",
      " '37,0042' '6,45' '93,5' '6,95' '8,3' '6,4375' '39,4' '14,1083' '13,8583'\n",
      " '50,4958' '5' '9,8458' '10,5167']\n"
     ]
    }
   ],
   "source": [
    "print(tit_correct_name['Fare'].unique())"
   ]
  },
  {
   "cell_type": "markdown",
   "metadata": {},
   "source": [
    "Dostrzec można, że wartości posiadają różną liczbę miejsc po przecinku. Dodatkowo wszystkie posiadają przecinki jako separatory dziesiętne. Należy zweryfikować, czy występują znaki nieliczbowe, a także czy w zbiorze najdują się liczby ujemne.\n",
    "\n",
    "W pierwszej kolejności skopiowano zbiór do nowej zmiennej *tit_correct_fare*, a następnie poprawiono przecinki na kropki."
   ]
  },
  {
   "cell_type": "code",
   "execution_count": 222,
   "metadata": {},
   "outputs": [
    {
     "name": "stdout",
     "output_type": "stream",
     "text": [
      "['7.25' '71.2833' '7.925' '53.1' '8.05' '8.4583' '51.8625' '21.075'\n",
      " '11.1333' '30.0708' '16.7' '26.55' '7.8542' '16' '29.125' '13' '18'\n",
      " '7.225' '26' '8.0292' '31.3875' '263' '7.8792' '7.8958' '27.7208'\n",
      " '146.5208' '7.75' '10.5' '82.1708' '52' '7.2292' '11.2417' '9.475' '21'\n",
      " '41.5792' '15.5' '21.6792' '17.8' '39.6875' '7.8' '76.7292' '61.9792'\n",
      " '35.5' '27.75' '46.9' '80' '83.475' '27.9' '15.2458' '8.1583' '8.6625'\n",
      " '73.5' '14.4542' '56.4958' '7.65' '29' '12.475' '9' '9.5' '7.7875' '47.1'\n",
      " '15.85' '34.375' '61.175' '20.575' '34.6542' '63.3583' '23' '77.2875'\n",
      " '8.6542' '7.775' '24.15' '9.825' '14.4583' '247.5208' '31.275' '7.1417'\n",
      " '22.3583' '6.975' '7.05' '14.5' '15.0458' '26.2833' '9.2167' '79.2'\n",
      " '6.75' '11.5' '36.75' '7.7958' '12.525' '66.6' '7.3125' '61.3792'\n",
      " '7.7333' '69.55' '16.1' '15.75' '20.525' '55' '25.925' '33.5' '30.6958'\n",
      " '25.4667' '28.7125' '0' '15.05' '39' '22.025' '50' '8.4042' '6.4958'\n",
      " '10.4625' '18.7875' '31' '113.275' '27' '76.2917' '90' '9.35' '13.5'\n",
      " '7.55' '26.25' '12.275' '7.125' '-90' '52.5542' '20.2125' '86.5'\n",
      " '512.3292' '79.65' '153.4625' '135.6333' '19.5' '29.7' '77.9583' '20.25'\n",
      " '78.85' '91.0792' '12.875' '8.85' '151.55' '30.5' '23.25' '12.35'\n",
      " '110.8833' '108.9' '24' '56.9292' '83.1583' '262.375' '14' '164.8667'\n",
      " '134.5' '6.2375' '57.9792' '28.5' '133.65' '15.9' '9.225' '35' '75.25'\n",
      " '69.3' '55.4417' '211.5' '4.0125' '227.525' '15.7417' '7.7292' '12' '120'\n",
      " '12.65' '18.75' '6.8583' '32.5' '7.875' '14.4' '55.9' '8.1125' '81.8583'\n",
      " '19.2583' '19.9667' '89.1042' '38.5' '7.725' '13.7917' '9.8375' '7.0458'\n",
      " '7.5208' '12.2875' '9.5875' '15.9a' '49.5042' '78.2667' '15.1' '7.6292'\n",
      " '22.525' '26.2875' '59.4' '7.4958' '34.0208' '221.7792' '106.425' '49.5'\n",
      " '71' '13.8625' '7.8292' '39.6' '17.4' '51.4792' '26.3875' '30' '40.125'\n",
      " '8.7125' '15' '33' '42.4' '15.55' '65' '32.3208' '7.0542' '8.4333'\n",
      " '25.5875' '9.8417' '8.1375' '10.1708' '211.3375' '57' '13.4167' '7.7417'\n",
      " '9.4833' '7.7375' '8.3625' '23.45' '25.9292' '8.6833' '8.5167' '7.8875'\n",
      " '37.0042' '6.45' '93.5' '6.95' '8.3' '6.4375' '39.4' '14.1083' '13.8583'\n",
      " '50.4958' '5' '9.8458' '10.5167']\n"
     ]
    }
   ],
   "source": [
    "tit_correct_fare = tit_correct_name.copy();\n",
    "tit_correct_fare['Fare'] = tit_correct_fare['Fare'].str.replace(\",\",\".\")\n",
    "\n",
    "print(tit_correct_fare['Fare'].unique())"
   ]
  },
  {
   "cell_type": "markdown",
   "metadata": {},
   "source": [
    "Kolejnym krokiem jest znalezienie wartości, które nie są liczbowe, np. litery, znaki specjalne."
   ]
  },
  {
   "cell_type": "code",
   "execution_count": 223,
   "metadata": {},
   "outputs": [
    {
     "name": "stdout",
     "output_type": "stream",
     "text": [
      "PassengerId\n",
      "490    15.9a\n",
      "Name: Fare, dtype: object\n"
     ]
    }
   ],
   "source": [
    "tit_bad_fare = tit_correct_fare['Fare'][tit_correct_fare['Fare'].str.contains('[a-zA-Z@_!#$%^&*()<>?/|}{~:]')]\n",
    "\n",
    "print(tit_bad_fare)"
   ]
  },
  {
   "cell_type": "markdown",
   "metadata": {},
   "source": [
    "Pasażer o id 490 posiada wartość 15.9a. Zostanie ona zmieniona na 15.9."
   ]
  },
  {
   "cell_type": "code",
   "execution_count": 224,
   "metadata": {},
   "outputs": [
    {
     "name": "stdout",
     "output_type": "stream",
     "text": [
      "PassengerId\n",
      "490    15.9\n",
      "Name: Fare, dtype: object\n"
     ]
    }
   ],
   "source": [
    "tit_correct_fare.loc[tit_correct_fare.index == 490, 'Fare'] = '15.9'\n",
    "\n",
    "print(tit_correct_fare['Fare'][tit_correct_fare.index == 490])"
   ]
  },
  {
   "cell_type": "markdown",
   "metadata": {},
   "source": [
    "Aby zweryfikować wartości min i max, należy najpierw zmienić typ danych kolumny *Fare* na float. Po zmianie typu, zaokrąglono także liczby do dwóch miejsc dziesiętnych."
   ]
  },
  {
   "cell_type": "code",
   "execution_count": 225,
   "metadata": {},
   "outputs": [
    {
     "name": "stdout",
     "output_type": "stream",
     "text": [
      "[  7.25  71.28   7.92  53.1    8.05   8.46  51.86  21.08  11.13  30.07\n",
      "  16.7   26.55   7.85  16.    29.12  13.    18.     7.22  26.     8.03\n",
      "  31.39 263.     7.88   7.9   27.72 146.52   7.75  10.5   82.17  52.\n",
      "   7.23  11.24   9.48  21.    41.58  15.5   21.68  17.8   39.69   7.8\n",
      "  76.73  61.98  35.5   27.75  46.9   80.    83.48  27.9   15.25   8.16\n",
      "   8.66  73.5   14.45  56.5    7.65  29.    12.48   9.     9.5    7.79\n",
      "  47.1   15.85  34.38  61.18  20.58  34.65  63.36  23.    77.29   8.65\n",
      "   7.78  24.15   9.82  14.46 247.52  31.28   7.14  22.36   6.98   7.05\n",
      "  14.5   15.05  26.28   9.22  79.2    6.75  11.5   36.75  12.52  66.6\n",
      "   7.31  61.38   7.73  69.55  16.1   15.75  20.52  55.    25.92  33.5\n",
      "  30.7   25.47  28.71   0.    39.    22.02  50.     8.4    6.5   10.46\n",
      "  18.79  31.   113.28  27.    76.29  90.     9.35  13.5    7.55  26.25\n",
      "  12.28   7.12 -90.    52.55  20.21  86.5  512.33  79.65 153.46 135.63\n",
      "  19.5   29.7   77.96  20.25  78.85  91.08  12.88   8.85 151.55  30.5\n",
      "  23.25  12.35 110.88 108.9   24.    56.93  83.16 262.38  14.   164.87\n",
      " 134.5    6.24  57.98  28.5  133.65  15.9   35.    75.25  69.3   55.44\n",
      " 211.5    4.01 227.52  15.74  12.   120.    12.65  18.75   6.86  32.5\n",
      "  14.4   55.9    8.11  81.86  19.26  19.97  89.1   38.5    7.72  13.79\n",
      "   9.84   7.52  12.29   9.59  49.5   78.27  15.1    7.63  22.52  26.29\n",
      "  59.4    7.5   34.02 221.78 106.42  71.    13.86   7.83  39.6   17.4\n",
      "  51.48  26.39  30.    40.12   8.71  15.    33.    42.4   15.55  65.\n",
      "  32.32   8.43  25.59   8.14  10.17 211.34  57.    13.42   7.74   8.36\n",
      "  23.45  25.93   8.68   8.52   7.89  37.     6.45  93.5    6.95   8.3\n",
      "   6.44  39.4   14.11  50.5    5.     9.85  10.52]\n"
     ]
    }
   ],
   "source": [
    "tit_correct_fare['Fare'] = tit_correct_fare['Fare'].astype(float)\n",
    "tit_correct_fare = tit_correct_fare.round(2)\n",
    "\n",
    "print(tit_correct_fare['Fare'].unique())"
   ]
  },
  {
   "cell_type": "markdown",
   "metadata": {},
   "source": [
    "Następnie wyznaczono wartości min i max."
   ]
  },
  {
   "cell_type": "code",
   "execution_count": 226,
   "metadata": {},
   "outputs": [
    {
     "name": "stdout",
     "output_type": "stream",
     "text": [
      "Wartość maksymalna: 512.33\n",
      "Wartość minimalna: -90.0\n"
     ]
    }
   ],
   "source": [
    "print(\"Wartość maksymalna: \" + str(tit_correct_fare['Fare'].max()))\n",
    "print(\"Wartość minimalna: \" + str(tit_correct_fare['Fare'].min()))"
   ]
  },
  {
   "cell_type": "markdown",
   "metadata": {},
   "source": [
    "Cena maksymalna jest wysoka i odstająca od pozostałych, ale poprawna. Natomiast cena minimalna jest błędna. Wyznaczone zostaną wszystkie ceny mniejsze niż 0."
   ]
  },
  {
   "cell_type": "code",
   "execution_count": 227,
   "metadata": {},
   "outputs": [
    {
     "name": "stdout",
     "output_type": "stream",
     "text": [
      "PassengerId\n",
      "246   -90.0\n",
      "Name: Fare, dtype: float64\n"
     ]
    }
   ],
   "source": [
    "print(tit_correct_fare[tit_correct_fare['Fare']<0]['Fare'])"
   ]
  },
  {
   "cell_type": "markdown",
   "metadata": {},
   "source": [
    "Cena biletu dla pasażera o ID 246 zostanie zmieniona z -90 na 90."
   ]
  },
  {
   "cell_type": "code",
   "execution_count": 228,
   "metadata": {},
   "outputs": [
    {
     "name": "stdout",
     "output_type": "stream",
     "text": [
      "PassengerId\n",
      "246    90.0\n",
      "Name: Fare, dtype: float64\n"
     ]
    }
   ],
   "source": [
    "tit_correct_fare.loc[tit_correct_fare.index == 246, 'Fare'] = 90.0\n",
    "\n",
    "print(tit_correct_fare['Fare'][tit_correct_fare.index == 246])"
   ]
  },
  {
   "cell_type": "markdown",
   "metadata": {},
   "source": [
    "## Przypisanie poprawionego zbioru do zmiennej wynikowej\n",
    "\n",
    "Wynik ostatniej poprawy zostanie przypisany do zmiennej *tit_cleansed*, która następnie zostanie zapisana do pliku."
   ]
  },
  {
   "cell_type": "code",
   "execution_count": 229,
   "metadata": {},
   "outputs": [],
   "source": [
    "tit_cleansed = tit_correct_fare.copy();"
   ]
  },
  {
   "cell_type": "markdown",
   "metadata": {},
   "source": [
    "## Zapis wynikowych danych do pliku\n",
    "\n",
    "Poprawiony zbiór zostanie zapisany do pliku tekstowego z kolumnami oddzielonymi tabulatorem. Plik będzie posiadał nazwę \"TitanicCleaned.tsv\".\n",
    "\n",
    "Plik zostanie zapisany w katalogu, w którym znajduje się ten Notebook."
   ]
  },
  {
   "cell_type": "code",
   "execution_count": 230,
   "metadata": {},
   "outputs": [],
   "source": [
    "tit_cleansed.to_csv(r'TitanicCleaned.tsv', sep='\\t')"
   ]
  }
 ],
 "metadata": {
  "kernelspec": {
   "display_name": "Python 3",
   "language": "python",
   "name": "python3"
  },
  "language_info": {
   "codemirror_mode": {
    "name": "ipython",
    "version": 3
   },
   "file_extension": ".py",
   "mimetype": "text/x-python",
   "name": "python",
   "nbconvert_exporter": "python",
   "pygments_lexer": "ipython3",
   "version": "3.8.5"
  }
 },
 "nbformat": 4,
 "nbformat_minor": 4
}
